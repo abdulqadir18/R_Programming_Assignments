{
  "nbformat": 4,
  "nbformat_minor": 0,
  "metadata": {
    "colab": {
      "provenance": [],
      "collapsed_sections": []
    },
    "kernelspec": {
      "name": "ir",
      "display_name": "R"
    },
    "language_info": {
      "name": "R"
    }
  },
  "cells": [
    {
      "cell_type": "code",
      "execution_count": null,
      "metadata": {
        "id": "yFPSd4FkWh6P",
        "colab": {
          "base_uri": "https://localhost:8080/",
          "height": 628
        },
        "outputId": "a6f008a7-20bd-482a-ef46-e2bafeddf9b5"
      },
      "outputs": [
        {
          "output_type": "stream",
          "name": "stderr",
          "text": [
            "Installing package into ‘/usr/local/lib/R/site-library’\n",
            "(as ‘lib’ is unspecified)\n",
            "\n",
            "Installing package into ‘/usr/local/lib/R/site-library’\n",
            "(as ‘lib’ is unspecified)\n",
            "\n"
          ]
        },
        {
          "output_type": "display_data",
          "data": {
            "text/html": [
              "<table class=\"dataframe\">\n",
              "<caption>A data.frame: 6 × 2</caption>\n",
              "<thead>\n",
              "\t<tr><th scope=col>CustomerId</th><th scope=col>Product</th></tr>\n",
              "\t<tr><th scope=col>&lt;int&gt;</th><th scope=col>&lt;chr&gt;</th></tr>\n",
              "</thead>\n",
              "<tbody>\n",
              "\t<tr><td>1</td><td>Oven          </td></tr>\n",
              "\t<tr><td>2</td><td>Television    </td></tr>\n",
              "\t<tr><td>3</td><td>Mobile        </td></tr>\n",
              "\t<tr><td>4</td><td>WashingMachine</td></tr>\n",
              "\t<tr><td>5</td><td>Lightings     </td></tr>\n",
              "\t<tr><td>6</td><td>Ipad          </td></tr>\n",
              "</tbody>\n",
              "</table>\n"
            ],
            "text/markdown": "\nA data.frame: 6 × 2\n\n| CustomerId &lt;int&gt; | Product &lt;chr&gt; |\n|---|---|\n| 1 | Oven           |\n| 2 | Television     |\n| 3 | Mobile         |\n| 4 | WashingMachine |\n| 5 | Lightings      |\n| 6 | Ipad           |\n\n",
            "text/latex": "A data.frame: 6 × 2\n\\begin{tabular}{ll}\n CustomerId & Product\\\\\n <int> & <chr>\\\\\n\\hline\n\t 1 & Oven          \\\\\n\t 2 & Television    \\\\\n\t 3 & Mobile        \\\\\n\t 4 & WashingMachine\\\\\n\t 5 & Lightings     \\\\\n\t 6 & Ipad          \\\\\n\\end{tabular}\n",
            "text/plain": [
              "  CustomerId Product       \n",
              "1 1          Oven          \n",
              "2 2          Television    \n",
              "3 3          Mobile        \n",
              "4 4          WashingMachine\n",
              "5 5          Lightings     \n",
              "6 6          Ipad          "
            ]
          },
          "metadata": {}
        },
        {
          "output_type": "display_data",
          "data": {
            "text/html": [
              "<table class=\"dataframe\">\n",
              "<caption>A data.frame: 5 × 2</caption>\n",
              "<thead>\n",
              "\t<tr><th scope=col>CustomerId</th><th scope=col>State</th></tr>\n",
              "\t<tr><th scope=col>&lt;dbl&gt;</th><th scope=col>&lt;chr&gt;</th></tr>\n",
              "</thead>\n",
              "<tbody>\n",
              "\t<tr><td>2</td><td>California</td></tr>\n",
              "\t<tr><td>4</td><td>Newyork   </td></tr>\n",
              "\t<tr><td>6</td><td>Santiago  </td></tr>\n",
              "\t<tr><td>7</td><td>Texas     </td></tr>\n",
              "\t<tr><td>8</td><td>Indiana   </td></tr>\n",
              "</tbody>\n",
              "</table>\n"
            ],
            "text/markdown": "\nA data.frame: 5 × 2\n\n| CustomerId &lt;dbl&gt; | State &lt;chr&gt; |\n|---|---|\n| 2 | California |\n| 4 | Newyork    |\n| 6 | Santiago   |\n| 7 | Texas      |\n| 8 | Indiana    |\n\n",
            "text/latex": "A data.frame: 5 × 2\n\\begin{tabular}{ll}\n CustomerId & State\\\\\n <dbl> & <chr>\\\\\n\\hline\n\t 2 & California\\\\\n\t 4 & Newyork   \\\\\n\t 6 & Santiago  \\\\\n\t 7 & Texas     \\\\\n\t 8 & Indiana   \\\\\n\\end{tabular}\n",
            "text/plain": [
              "  CustomerId State     \n",
              "1 2          California\n",
              "2 4          Newyork   \n",
              "3 6          Santiago  \n",
              "4 7          Texas     \n",
              "5 8          Indiana   "
            ]
          },
          "metadata": {}
        }
      ],
      "source": [
        "install.packages('dplyr')\n",
        "install.packages(\"tidyr\")\n",
        "\n",
        "# data frame 1\n",
        "df1 = data.frame(CustomerId = c(1:6), Product = c(\"Oven\",\"Television\",\"Mobile\",\"WashingMachine\",\"Lightings\",\"Ipad\"))\n",
        "df1 \n",
        " \n",
        "# data frame 2\n",
        "df2 = data.frame(CustomerId = c(2, 4, 6, 7, 8), State = c(\"California\",\"Newyork\",\"Santiago\",\"Texas\",\"Indiana\")) \n",
        "df2 \n"
      ]
    },
    {
      "cell_type": "code",
      "source": [
        "# left join using merge\n",
        "lj = merge(x=df1, y=df2, by='CustomerId')\n",
        "lj"
      ],
      "metadata": {
        "colab": {
          "base_uri": "https://localhost:8080/",
          "height": 192
        },
        "id": "a8ubBPBoYowY",
        "outputId": "ff3fb55b-2d0f-4f28-a32c-2e284ad10b00"
      },
      "execution_count": null,
      "outputs": [
        {
          "output_type": "display_data",
          "data": {
            "text/html": [
              "<table class=\"dataframe\">\n",
              "<caption>A data.frame: 3 × 3</caption>\n",
              "<thead>\n",
              "\t<tr><th scope=col>CustomerId</th><th scope=col>Product</th><th scope=col>State</th></tr>\n",
              "\t<tr><th scope=col>&lt;int&gt;</th><th scope=col>&lt;chr&gt;</th><th scope=col>&lt;chr&gt;</th></tr>\n",
              "</thead>\n",
              "<tbody>\n",
              "\t<tr><td>2</td><td>Television    </td><td>California</td></tr>\n",
              "\t<tr><td>4</td><td>WashingMachine</td><td>Newyork   </td></tr>\n",
              "\t<tr><td>6</td><td>Ipad          </td><td>Santiago  </td></tr>\n",
              "</tbody>\n",
              "</table>\n"
            ],
            "text/markdown": "\nA data.frame: 3 × 3\n\n| CustomerId &lt;int&gt; | Product &lt;chr&gt; | State &lt;chr&gt; |\n|---|---|---|\n| 2 | Television     | California |\n| 4 | WashingMachine | Newyork    |\n| 6 | Ipad           | Santiago   |\n\n",
            "text/latex": "A data.frame: 3 × 3\n\\begin{tabular}{lll}\n CustomerId & Product & State\\\\\n <int> & <chr> & <chr>\\\\\n\\hline\n\t 2 & Television     & California\\\\\n\t 4 & WashingMachine & Newyork   \\\\\n\t 6 & Ipad           & Santiago  \\\\\n\\end{tabular}\n",
            "text/plain": [
              "  CustomerId Product        State     \n",
              "1 2          Television     California\n",
              "2 4          WashingMachine Newyork   \n",
              "3 6          Ipad           Santiago  "
            ]
          },
          "metadata": {}
        }
      ]
    },
    {
      "cell_type": "code",
      "source": [
        "# outer join using merge\n",
        "oj = merge(x=df1, y=df2, by='CustomerId', all=TRUE)\n",
        "oj"
      ],
      "metadata": {
        "colab": {
          "base_uri": "https://localhost:8080/",
          "height": 349
        },
        "id": "t2APwmcFZ64W",
        "outputId": "2583f5fb-d4d2-4496-ac90-643324cb8d2b"
      },
      "execution_count": null,
      "outputs": [
        {
          "output_type": "display_data",
          "data": {
            "text/html": [
              "<table class=\"dataframe\">\n",
              "<caption>A data.frame: 8 × 3</caption>\n",
              "<thead>\n",
              "\t<tr><th scope=col>CustomerId</th><th scope=col>Product</th><th scope=col>State</th></tr>\n",
              "\t<tr><th scope=col>&lt;dbl&gt;</th><th scope=col>&lt;chr&gt;</th><th scope=col>&lt;chr&gt;</th></tr>\n",
              "</thead>\n",
              "<tbody>\n",
              "\t<tr><td>1</td><td>Oven          </td><td>NA        </td></tr>\n",
              "\t<tr><td>2</td><td>Television    </td><td>California</td></tr>\n",
              "\t<tr><td>3</td><td>Mobile        </td><td>NA        </td></tr>\n",
              "\t<tr><td>4</td><td>WashingMachine</td><td>Newyork   </td></tr>\n",
              "\t<tr><td>5</td><td>Lightings     </td><td>NA        </td></tr>\n",
              "\t<tr><td>6</td><td>Ipad          </td><td>Santiago  </td></tr>\n",
              "\t<tr><td>7</td><td>NA            </td><td>Texas     </td></tr>\n",
              "\t<tr><td>8</td><td>NA            </td><td>Indiana   </td></tr>\n",
              "</tbody>\n",
              "</table>\n"
            ],
            "text/markdown": "\nA data.frame: 8 × 3\n\n| CustomerId &lt;dbl&gt; | Product &lt;chr&gt; | State &lt;chr&gt; |\n|---|---|---|\n| 1 | Oven           | NA         |\n| 2 | Television     | California |\n| 3 | Mobile         | NA         |\n| 4 | WashingMachine | Newyork    |\n| 5 | Lightings      | NA         |\n| 6 | Ipad           | Santiago   |\n| 7 | NA             | Texas      |\n| 8 | NA             | Indiana    |\n\n",
            "text/latex": "A data.frame: 8 × 3\n\\begin{tabular}{lll}\n CustomerId & Product & State\\\\\n <dbl> & <chr> & <chr>\\\\\n\\hline\n\t 1 & Oven           & NA        \\\\\n\t 2 & Television     & California\\\\\n\t 3 & Mobile         & NA        \\\\\n\t 4 & WashingMachine & Newyork   \\\\\n\t 5 & Lightings      & NA        \\\\\n\t 6 & Ipad           & Santiago  \\\\\n\t 7 & NA             & Texas     \\\\\n\t 8 & NA             & Indiana   \\\\\n\\end{tabular}\n",
            "text/plain": [
              "  CustomerId Product        State     \n",
              "1 1          Oven           NA        \n",
              "2 2          Television     California\n",
              "3 3          Mobile         NA        \n",
              "4 4          WashingMachine Newyork   \n",
              "5 5          Lightings      NA        \n",
              "6 6          Ipad           Santiago  \n",
              "7 7          NA             Texas     \n",
              "8 8          NA             Indiana   "
            ]
          },
          "metadata": {}
        }
      ]
    },
    {
      "cell_type": "code",
      "source": [
        "#inner join\n",
        "library(dplyr)\n",
        "df= df1 %>% inner_join(df2,by=\"CustomerId\")\n",
        "df"
      ],
      "metadata": {
        "colab": {
          "base_uri": "https://localhost:8080/",
          "height": 192
        },
        "id": "Jpt2JIwIasg4",
        "outputId": "42a33d35-c4ed-47ba-fa2b-fc88cc720834"
      },
      "execution_count": null,
      "outputs": [
        {
          "output_type": "display_data",
          "data": {
            "text/html": [
              "<table class=\"dataframe\">\n",
              "<caption>A data.frame: 3 × 3</caption>\n",
              "<thead>\n",
              "\t<tr><th scope=col>CustomerId</th><th scope=col>Product</th><th scope=col>State</th></tr>\n",
              "\t<tr><th scope=col>&lt;dbl&gt;</th><th scope=col>&lt;chr&gt;</th><th scope=col>&lt;chr&gt;</th></tr>\n",
              "</thead>\n",
              "<tbody>\n",
              "\t<tr><td>2</td><td>Television    </td><td>California</td></tr>\n",
              "\t<tr><td>4</td><td>WashingMachine</td><td>Newyork   </td></tr>\n",
              "\t<tr><td>6</td><td>Ipad          </td><td>Santiago  </td></tr>\n",
              "</tbody>\n",
              "</table>\n"
            ],
            "text/markdown": "\nA data.frame: 3 × 3\n\n| CustomerId &lt;dbl&gt; | Product &lt;chr&gt; | State &lt;chr&gt; |\n|---|---|---|\n| 2 | Television     | California |\n| 4 | WashingMachine | Newyork    |\n| 6 | Ipad           | Santiago   |\n\n",
            "text/latex": "A data.frame: 3 × 3\n\\begin{tabular}{lll}\n CustomerId & Product & State\\\\\n <dbl> & <chr> & <chr>\\\\\n\\hline\n\t 2 & Television     & California\\\\\n\t 4 & WashingMachine & Newyork   \\\\\n\t 6 & Ipad           & Santiago  \\\\\n\\end{tabular}\n",
            "text/plain": [
              "  CustomerId Product        State     \n",
              "1 2          Television     California\n",
              "2 4          WashingMachine Newyork   \n",
              "3 6          Ipad           Santiago  "
            ]
          },
          "metadata": {}
        }
      ]
    },
    {
      "cell_type": "code",
      "source": [
        "#full join\n",
        "library(dplyr)\n",
        "df= df1 %>% full_join(df2,by=\"CustomerId\")\n",
        "df"
      ],
      "metadata": {
        "colab": {
          "base_uri": "https://localhost:8080/",
          "height": 349
        },
        "id": "jEYoVhxNa0sa",
        "outputId": "9df5ecc7-517a-4799-82c6-926464273013"
      },
      "execution_count": null,
      "outputs": [
        {
          "output_type": "display_data",
          "data": {
            "text/html": [
              "<table class=\"dataframe\">\n",
              "<caption>A data.frame: 8 × 3</caption>\n",
              "<thead>\n",
              "\t<tr><th scope=col>CustomerId</th><th scope=col>Product</th><th scope=col>State</th></tr>\n",
              "\t<tr><th scope=col>&lt;dbl&gt;</th><th scope=col>&lt;chr&gt;</th><th scope=col>&lt;chr&gt;</th></tr>\n",
              "</thead>\n",
              "<tbody>\n",
              "\t<tr><td>1</td><td>Oven          </td><td>NA        </td></tr>\n",
              "\t<tr><td>2</td><td>Television    </td><td>California</td></tr>\n",
              "\t<tr><td>3</td><td>Mobile        </td><td>NA        </td></tr>\n",
              "\t<tr><td>4</td><td>WashingMachine</td><td>Newyork   </td></tr>\n",
              "\t<tr><td>5</td><td>Lightings     </td><td>NA        </td></tr>\n",
              "\t<tr><td>6</td><td>Ipad          </td><td>Santiago  </td></tr>\n",
              "\t<tr><td>7</td><td>NA            </td><td>Texas     </td></tr>\n",
              "\t<tr><td>8</td><td>NA            </td><td>Indiana   </td></tr>\n",
              "</tbody>\n",
              "</table>\n"
            ],
            "text/markdown": "\nA data.frame: 8 × 3\n\n| CustomerId &lt;dbl&gt; | Product &lt;chr&gt; | State &lt;chr&gt; |\n|---|---|---|\n| 1 | Oven           | NA         |\n| 2 | Television     | California |\n| 3 | Mobile         | NA         |\n| 4 | WashingMachine | Newyork    |\n| 5 | Lightings      | NA         |\n| 6 | Ipad           | Santiago   |\n| 7 | NA             | Texas      |\n| 8 | NA             | Indiana    |\n\n",
            "text/latex": "A data.frame: 8 × 3\n\\begin{tabular}{lll}\n CustomerId & Product & State\\\\\n <dbl> & <chr> & <chr>\\\\\n\\hline\n\t 1 & Oven           & NA        \\\\\n\t 2 & Television     & California\\\\\n\t 3 & Mobile         & NA        \\\\\n\t 4 & WashingMachine & Newyork   \\\\\n\t 5 & Lightings      & NA        \\\\\n\t 6 & Ipad           & Santiago  \\\\\n\t 7 & NA             & Texas     \\\\\n\t 8 & NA             & Indiana   \\\\\n\\end{tabular}\n",
            "text/plain": [
              "  CustomerId Product        State     \n",
              "1 1          Oven           NA        \n",
              "2 2          Television     California\n",
              "3 3          Mobile         NA        \n",
              "4 4          WashingMachine Newyork   \n",
              "5 5          Lightings      NA        \n",
              "6 6          Ipad           Santiago  \n",
              "7 7          NA             Texas     \n",
              "8 8          NA             Indiana   "
            ]
          },
          "metadata": {}
        }
      ]
    },
    {
      "cell_type": "code",
      "source": [
        "# left join\n",
        "library(dplyr)\n",
        "df= df1 %>% left_join(df2,by=\"CustomerId\")\n",
        "df"
      ],
      "metadata": {
        "colab": {
          "base_uri": "https://localhost:8080/",
          "height": 286
        },
        "id": "CRMrpbD2cJJD",
        "outputId": "a5cc8211-f99f-4eaf-9923-982d2044a707"
      },
      "execution_count": null,
      "outputs": [
        {
          "output_type": "display_data",
          "data": {
            "text/html": [
              "<table class=\"dataframe\">\n",
              "<caption>A data.frame: 6 × 3</caption>\n",
              "<thead>\n",
              "\t<tr><th scope=col>CustomerId</th><th scope=col>Product</th><th scope=col>State</th></tr>\n",
              "\t<tr><th scope=col>&lt;dbl&gt;</th><th scope=col>&lt;chr&gt;</th><th scope=col>&lt;chr&gt;</th></tr>\n",
              "</thead>\n",
              "<tbody>\n",
              "\t<tr><td>1</td><td>Oven          </td><td>NA        </td></tr>\n",
              "\t<tr><td>2</td><td>Television    </td><td>California</td></tr>\n",
              "\t<tr><td>3</td><td>Mobile        </td><td>NA        </td></tr>\n",
              "\t<tr><td>4</td><td>WashingMachine</td><td>Newyork   </td></tr>\n",
              "\t<tr><td>5</td><td>Lightings     </td><td>NA        </td></tr>\n",
              "\t<tr><td>6</td><td>Ipad          </td><td>Santiago  </td></tr>\n",
              "</tbody>\n",
              "</table>\n"
            ],
            "text/markdown": "\nA data.frame: 6 × 3\n\n| CustomerId &lt;dbl&gt; | Product &lt;chr&gt; | State &lt;chr&gt; |\n|---|---|---|\n| 1 | Oven           | NA         |\n| 2 | Television     | California |\n| 3 | Mobile         | NA         |\n| 4 | WashingMachine | Newyork    |\n| 5 | Lightings      | NA         |\n| 6 | Ipad           | Santiago   |\n\n",
            "text/latex": "A data.frame: 6 × 3\n\\begin{tabular}{lll}\n CustomerId & Product & State\\\\\n <dbl> & <chr> & <chr>\\\\\n\\hline\n\t 1 & Oven           & NA        \\\\\n\t 2 & Television     & California\\\\\n\t 3 & Mobile         & NA        \\\\\n\t 4 & WashingMachine & Newyork   \\\\\n\t 5 & Lightings      & NA        \\\\\n\t 6 & Ipad           & Santiago  \\\\\n\\end{tabular}\n",
            "text/plain": [
              "  CustomerId Product        State     \n",
              "1 1          Oven           NA        \n",
              "2 2          Television     California\n",
              "3 3          Mobile         NA        \n",
              "4 4          WashingMachine Newyork   \n",
              "5 5          Lightings      NA        \n",
              "6 6          Ipad           Santiago  "
            ]
          },
          "metadata": {}
        }
      ]
    },
    {
      "cell_type": "code",
      "source": [
        "# right join\n",
        "library(dplyr)\n",
        "df= df1 %>% right_join(df2,by=\"CustomerId\")\n",
        "df"
      ],
      "metadata": {
        "colab": {
          "base_uri": "https://localhost:8080/",
          "height": 255
        },
        "id": "vdXYhaXYcZ6g",
        "outputId": "362c8788-144d-4428-aa95-f7465c0592ef"
      },
      "execution_count": null,
      "outputs": [
        {
          "output_type": "display_data",
          "data": {
            "text/html": [
              "<table class=\"dataframe\">\n",
              "<caption>A data.frame: 5 × 3</caption>\n",
              "<thead>\n",
              "\t<tr><th scope=col>CustomerId</th><th scope=col>Product</th><th scope=col>State</th></tr>\n",
              "\t<tr><th scope=col>&lt;dbl&gt;</th><th scope=col>&lt;chr&gt;</th><th scope=col>&lt;chr&gt;</th></tr>\n",
              "</thead>\n",
              "<tbody>\n",
              "\t<tr><td>2</td><td>Television    </td><td>California</td></tr>\n",
              "\t<tr><td>4</td><td>WashingMachine</td><td>Newyork   </td></tr>\n",
              "\t<tr><td>6</td><td>Ipad          </td><td>Santiago  </td></tr>\n",
              "\t<tr><td>7</td><td>NA            </td><td>Texas     </td></tr>\n",
              "\t<tr><td>8</td><td>NA            </td><td>Indiana   </td></tr>\n",
              "</tbody>\n",
              "</table>\n"
            ],
            "text/markdown": "\nA data.frame: 5 × 3\n\n| CustomerId &lt;dbl&gt; | Product &lt;chr&gt; | State &lt;chr&gt; |\n|---|---|---|\n| 2 | Television     | California |\n| 4 | WashingMachine | Newyork    |\n| 6 | Ipad           | Santiago   |\n| 7 | NA             | Texas      |\n| 8 | NA             | Indiana    |\n\n",
            "text/latex": "A data.frame: 5 × 3\n\\begin{tabular}{lll}\n CustomerId & Product & State\\\\\n <dbl> & <chr> & <chr>\\\\\n\\hline\n\t 2 & Television     & California\\\\\n\t 4 & WashingMachine & Newyork   \\\\\n\t 6 & Ipad           & Santiago  \\\\\n\t 7 & NA             & Texas     \\\\\n\t 8 & NA             & Indiana   \\\\\n\\end{tabular}\n",
            "text/plain": [
              "  CustomerId Product        State     \n",
              "1 2          Television     California\n",
              "2 4          WashingMachine Newyork   \n",
              "3 6          Ipad           Santiago  \n",
              "4 7          NA             Texas     \n",
              "5 8          NA             Indiana   "
            ]
          },
          "metadata": {}
        }
      ]
    },
    {
      "cell_type": "code",
      "source": [
        "# semi join\n",
        "library(dplyr)\n",
        "df= df1 %>% semi_join(df2,by=\"CustomerId\")\n",
        "df"
      ],
      "metadata": {
        "colab": {
          "base_uri": "https://localhost:8080/",
          "height": 192
        },
        "id": "--1HwGnuci2e",
        "outputId": "ea81c29c-edb9-4eb5-d4d0-03626f64f38d"
      },
      "execution_count": null,
      "outputs": [
        {
          "output_type": "display_data",
          "data": {
            "text/html": [
              "<table class=\"dataframe\">\n",
              "<caption>A data.frame: 3 × 2</caption>\n",
              "<thead>\n",
              "\t<tr><th scope=col>CustomerId</th><th scope=col>Product</th></tr>\n",
              "\t<tr><th scope=col>&lt;int&gt;</th><th scope=col>&lt;chr&gt;</th></tr>\n",
              "</thead>\n",
              "<tbody>\n",
              "\t<tr><td>2</td><td>Television    </td></tr>\n",
              "\t<tr><td>4</td><td>WashingMachine</td></tr>\n",
              "\t<tr><td>6</td><td>Ipad          </td></tr>\n",
              "</tbody>\n",
              "</table>\n"
            ],
            "text/markdown": "\nA data.frame: 3 × 2\n\n| CustomerId &lt;int&gt; | Product &lt;chr&gt; |\n|---|---|\n| 2 | Television     |\n| 4 | WashingMachine |\n| 6 | Ipad           |\n\n",
            "text/latex": "A data.frame: 3 × 2\n\\begin{tabular}{ll}\n CustomerId & Product\\\\\n <int> & <chr>\\\\\n\\hline\n\t 2 & Television    \\\\\n\t 4 & WashingMachine\\\\\n\t 6 & Ipad          \\\\\n\\end{tabular}\n",
            "text/plain": [
              "  CustomerId Product       \n",
              "1 2          Television    \n",
              "2 4          WashingMachine\n",
              "3 6          Ipad          "
            ]
          },
          "metadata": {}
        }
      ]
    },
    {
      "cell_type": "code",
      "source": [
        "# anti join\n",
        "library(dplyr)\n",
        "df = df1 %>% anti_join(df2,by=\"CustomerId\")\n",
        "df"
      ],
      "metadata": {
        "colab": {
          "base_uri": "https://localhost:8080/",
          "height": 192
        },
        "id": "A2gUcTlDco04",
        "outputId": "ecb9455d-befb-4c6c-f935-394934d8f606"
      },
      "execution_count": null,
      "outputs": [
        {
          "output_type": "display_data",
          "data": {
            "text/html": [
              "<table class=\"dataframe\">\n",
              "<caption>A data.frame: 3 × 2</caption>\n",
              "<thead>\n",
              "\t<tr><th scope=col>CustomerId</th><th scope=col>Product</th></tr>\n",
              "\t<tr><th scope=col>&lt;int&gt;</th><th scope=col>&lt;chr&gt;</th></tr>\n",
              "</thead>\n",
              "<tbody>\n",
              "\t<tr><td>1</td><td>Oven     </td></tr>\n",
              "\t<tr><td>3</td><td>Mobile   </td></tr>\n",
              "\t<tr><td>5</td><td>Lightings</td></tr>\n",
              "</tbody>\n",
              "</table>\n"
            ],
            "text/markdown": "\nA data.frame: 3 × 2\n\n| CustomerId &lt;int&gt; | Product &lt;chr&gt; |\n|---|---|\n| 1 | Oven      |\n| 3 | Mobile    |\n| 5 | Lightings |\n\n",
            "text/latex": "A data.frame: 3 × 2\n\\begin{tabular}{ll}\n CustomerId & Product\\\\\n <int> & <chr>\\\\\n\\hline\n\t 1 & Oven     \\\\\n\t 3 & Mobile   \\\\\n\t 5 & Lightings\\\\\n\\end{tabular}\n",
            "text/plain": [
              "  CustomerId Product  \n",
              "1 1          Oven     \n",
              "2 3          Mobile   \n",
              "3 5          Lightings"
            ]
          },
          "metadata": {}
        }
      ]
    },
    {
      "cell_type": "code",
      "source": [
        "#gather\n",
        "library(tidyr)\n",
        "# outer join using merge\n",
        "oj = merge(x=df1, y=df2, by='CustomerId', all=TRUE)\n",
        "oj\n",
        "\"gather\"\n",
        "oj <- oj %>% gather(Type, Value, -CustomerId)\n",
        "oj\n",
        "\"spread\"\n",
        "oj <- oj %>% spread(Type, Value)\n",
        "oj"
      ],
      "metadata": {
        "colab": {
          "base_uri": "https://localhost:8080/",
          "height": 1000
        },
        "id": "x58ANQn_dW-p",
        "outputId": "3b1a293c-aeb2-40fb-f140-bd758a88bdc2"
      },
      "execution_count": null,
      "outputs": [
        {
          "output_type": "display_data",
          "data": {
            "text/html": [
              "<table class=\"dataframe\">\n",
              "<caption>A data.frame: 8 × 3</caption>\n",
              "<thead>\n",
              "\t<tr><th scope=col>CustomerId</th><th scope=col>Product</th><th scope=col>State</th></tr>\n",
              "\t<tr><th scope=col>&lt;dbl&gt;</th><th scope=col>&lt;chr&gt;</th><th scope=col>&lt;chr&gt;</th></tr>\n",
              "</thead>\n",
              "<tbody>\n",
              "\t<tr><td>1</td><td>Oven          </td><td>NA        </td></tr>\n",
              "\t<tr><td>2</td><td>Television    </td><td>California</td></tr>\n",
              "\t<tr><td>3</td><td>Mobile        </td><td>NA        </td></tr>\n",
              "\t<tr><td>4</td><td>WashingMachine</td><td>Newyork   </td></tr>\n",
              "\t<tr><td>5</td><td>Lightings     </td><td>NA        </td></tr>\n",
              "\t<tr><td>6</td><td>Ipad          </td><td>Santiago  </td></tr>\n",
              "\t<tr><td>7</td><td>NA            </td><td>Texas     </td></tr>\n",
              "\t<tr><td>8</td><td>NA            </td><td>Indiana   </td></tr>\n",
              "</tbody>\n",
              "</table>\n"
            ],
            "text/markdown": "\nA data.frame: 8 × 3\n\n| CustomerId &lt;dbl&gt; | Product &lt;chr&gt; | State &lt;chr&gt; |\n|---|---|---|\n| 1 | Oven           | NA         |\n| 2 | Television     | California |\n| 3 | Mobile         | NA         |\n| 4 | WashingMachine | Newyork    |\n| 5 | Lightings      | NA         |\n| 6 | Ipad           | Santiago   |\n| 7 | NA             | Texas      |\n| 8 | NA             | Indiana    |\n\n",
            "text/latex": "A data.frame: 8 × 3\n\\begin{tabular}{lll}\n CustomerId & Product & State\\\\\n <dbl> & <chr> & <chr>\\\\\n\\hline\n\t 1 & Oven           & NA        \\\\\n\t 2 & Television     & California\\\\\n\t 3 & Mobile         & NA        \\\\\n\t 4 & WashingMachine & Newyork   \\\\\n\t 5 & Lightings      & NA        \\\\\n\t 6 & Ipad           & Santiago  \\\\\n\t 7 & NA             & Texas     \\\\\n\t 8 & NA             & Indiana   \\\\\n\\end{tabular}\n",
            "text/plain": [
              "  CustomerId Product        State     \n",
              "1 1          Oven           NA        \n",
              "2 2          Television     California\n",
              "3 3          Mobile         NA        \n",
              "4 4          WashingMachine Newyork   \n",
              "5 5          Lightings      NA        \n",
              "6 6          Ipad           Santiago  \n",
              "7 7          NA             Texas     \n",
              "8 8          NA             Indiana   "
            ]
          },
          "metadata": {}
        },
        {
          "output_type": "display_data",
          "data": {
            "text/html": [
              "'gather'"
            ],
            "text/markdown": "'gather'",
            "text/latex": "'gather'",
            "text/plain": [
              "[1] \"gather\""
            ]
          },
          "metadata": {}
        },
        {
          "output_type": "display_data",
          "data": {
            "text/html": [
              "<table class=\"dataframe\">\n",
              "<caption>A data.frame: 16 × 3</caption>\n",
              "<thead>\n",
              "\t<tr><th scope=col>CustomerId</th><th scope=col>Type</th><th scope=col>Value</th></tr>\n",
              "\t<tr><th scope=col>&lt;dbl&gt;</th><th scope=col>&lt;chr&gt;</th><th scope=col>&lt;chr&gt;</th></tr>\n",
              "</thead>\n",
              "<tbody>\n",
              "\t<tr><td>1</td><td>Product</td><td>Oven          </td></tr>\n",
              "\t<tr><td>2</td><td>Product</td><td>Television    </td></tr>\n",
              "\t<tr><td>3</td><td>Product</td><td>Mobile        </td></tr>\n",
              "\t<tr><td>4</td><td>Product</td><td>WashingMachine</td></tr>\n",
              "\t<tr><td>5</td><td>Product</td><td>Lightings     </td></tr>\n",
              "\t<tr><td>6</td><td>Product</td><td>Ipad          </td></tr>\n",
              "\t<tr><td>7</td><td>Product</td><td>NA            </td></tr>\n",
              "\t<tr><td>8</td><td>Product</td><td>NA            </td></tr>\n",
              "\t<tr><td>1</td><td>State  </td><td>NA            </td></tr>\n",
              "\t<tr><td>2</td><td>State  </td><td>California    </td></tr>\n",
              "\t<tr><td>3</td><td>State  </td><td>NA            </td></tr>\n",
              "\t<tr><td>4</td><td>State  </td><td>Newyork       </td></tr>\n",
              "\t<tr><td>5</td><td>State  </td><td>NA            </td></tr>\n",
              "\t<tr><td>6</td><td>State  </td><td>Santiago      </td></tr>\n",
              "\t<tr><td>7</td><td>State  </td><td>Texas         </td></tr>\n",
              "\t<tr><td>8</td><td>State  </td><td>Indiana       </td></tr>\n",
              "</tbody>\n",
              "</table>\n"
            ],
            "text/markdown": "\nA data.frame: 16 × 3\n\n| CustomerId &lt;dbl&gt; | Type &lt;chr&gt; | Value &lt;chr&gt; |\n|---|---|---|\n| 1 | Product | Oven           |\n| 2 | Product | Television     |\n| 3 | Product | Mobile         |\n| 4 | Product | WashingMachine |\n| 5 | Product | Lightings      |\n| 6 | Product | Ipad           |\n| 7 | Product | NA             |\n| 8 | Product | NA             |\n| 1 | State   | NA             |\n| 2 | State   | California     |\n| 3 | State   | NA             |\n| 4 | State   | Newyork        |\n| 5 | State   | NA             |\n| 6 | State   | Santiago       |\n| 7 | State   | Texas          |\n| 8 | State   | Indiana        |\n\n",
            "text/latex": "A data.frame: 16 × 3\n\\begin{tabular}{lll}\n CustomerId & Type & Value\\\\\n <dbl> & <chr> & <chr>\\\\\n\\hline\n\t 1 & Product & Oven          \\\\\n\t 2 & Product & Television    \\\\\n\t 3 & Product & Mobile        \\\\\n\t 4 & Product & WashingMachine\\\\\n\t 5 & Product & Lightings     \\\\\n\t 6 & Product & Ipad          \\\\\n\t 7 & Product & NA            \\\\\n\t 8 & Product & NA            \\\\\n\t 1 & State   & NA            \\\\\n\t 2 & State   & California    \\\\\n\t 3 & State   & NA            \\\\\n\t 4 & State   & Newyork       \\\\\n\t 5 & State   & NA            \\\\\n\t 6 & State   & Santiago      \\\\\n\t 7 & State   & Texas         \\\\\n\t 8 & State   & Indiana       \\\\\n\\end{tabular}\n",
            "text/plain": [
              "   CustomerId Type    Value         \n",
              "1  1          Product Oven          \n",
              "2  2          Product Television    \n",
              "3  3          Product Mobile        \n",
              "4  4          Product WashingMachine\n",
              "5  5          Product Lightings     \n",
              "6  6          Product Ipad          \n",
              "7  7          Product NA            \n",
              "8  8          Product NA            \n",
              "9  1          State   NA            \n",
              "10 2          State   California    \n",
              "11 3          State   NA            \n",
              "12 4          State   Newyork       \n",
              "13 5          State   NA            \n",
              "14 6          State   Santiago      \n",
              "15 7          State   Texas         \n",
              "16 8          State   Indiana       "
            ]
          },
          "metadata": {}
        },
        {
          "output_type": "display_data",
          "data": {
            "text/html": [
              "'spread'"
            ],
            "text/markdown": "'spread'",
            "text/latex": "'spread'",
            "text/plain": [
              "[1] \"spread\""
            ]
          },
          "metadata": {}
        },
        {
          "output_type": "display_data",
          "data": {
            "text/html": [
              "<table class=\"dataframe\">\n",
              "<caption>A data.frame: 8 × 3</caption>\n",
              "<thead>\n",
              "\t<tr><th scope=col>CustomerId</th><th scope=col>Product</th><th scope=col>State</th></tr>\n",
              "\t<tr><th scope=col>&lt;dbl&gt;</th><th scope=col>&lt;chr&gt;</th><th scope=col>&lt;chr&gt;</th></tr>\n",
              "</thead>\n",
              "<tbody>\n",
              "\t<tr><td>1</td><td>Oven          </td><td>NA        </td></tr>\n",
              "\t<tr><td>2</td><td>Television    </td><td>California</td></tr>\n",
              "\t<tr><td>3</td><td>Mobile        </td><td>NA        </td></tr>\n",
              "\t<tr><td>4</td><td>WashingMachine</td><td>Newyork   </td></tr>\n",
              "\t<tr><td>5</td><td>Lightings     </td><td>NA        </td></tr>\n",
              "\t<tr><td>6</td><td>Ipad          </td><td>Santiago  </td></tr>\n",
              "\t<tr><td>7</td><td>NA            </td><td>Texas     </td></tr>\n",
              "\t<tr><td>8</td><td>NA            </td><td>Indiana   </td></tr>\n",
              "</tbody>\n",
              "</table>\n"
            ],
            "text/markdown": "\nA data.frame: 8 × 3\n\n| CustomerId &lt;dbl&gt; | Product &lt;chr&gt; | State &lt;chr&gt; |\n|---|---|---|\n| 1 | Oven           | NA         |\n| 2 | Television     | California |\n| 3 | Mobile         | NA         |\n| 4 | WashingMachine | Newyork    |\n| 5 | Lightings      | NA         |\n| 6 | Ipad           | Santiago   |\n| 7 | NA             | Texas      |\n| 8 | NA             | Indiana    |\n\n",
            "text/latex": "A data.frame: 8 × 3\n\\begin{tabular}{lll}\n CustomerId & Product & State\\\\\n <dbl> & <chr> & <chr>\\\\\n\\hline\n\t 1 & Oven           & NA        \\\\\n\t 2 & Television     & California\\\\\n\t 3 & Mobile         & NA        \\\\\n\t 4 & WashingMachine & Newyork   \\\\\n\t 5 & Lightings      & NA        \\\\\n\t 6 & Ipad           & Santiago  \\\\\n\t 7 & NA             & Texas     \\\\\n\t 8 & NA             & Indiana   \\\\\n\\end{tabular}\n",
            "text/plain": [
              "  CustomerId Product        State     \n",
              "1 1          Oven           NA        \n",
              "2 2          Television     California\n",
              "3 3          Mobile         NA        \n",
              "4 4          WashingMachine Newyork   \n",
              "5 5          Lightings      NA        \n",
              "6 6          Ipad           Santiago  \n",
              "7 7          NA             Texas     \n",
              "8 8          NA             Indiana   "
            ]
          },
          "metadata": {}
        }
      ]
    },
    {
      "cell_type": "code",
      "source": [
        "#ggplot\n",
        "library(ggplot2)\n",
        "\"simple\"\n",
        "ggplot(oj)\n",
        "\"aesthetic\"\n",
        "ggplot(oj, aes(x = CustomerId, y = Product, col = State))\n",
        "\"geometric\"\n",
        "ggplot(oj, aes(x = CustomerId, y = Product, col = State)) +geom_point()\n",
        "\"histogram\"\n",
        "ggplot(oj, aes(x = CustomerId)) +geom_histogram(binwidth = 5)\n",
        "\"statistics\"\n",
        "ggplot(oj, aes(x = CustomerId, y = Product)) +geom_point() +stat_smooth(method = lm, col = \"red\")\n",
        "\n"
      ],
      "metadata": {
        "colab": {
          "base_uri": "https://localhost:8080/",
          "height": 1000
        },
        "id": "IrND_U1-isjg",
        "outputId": "520a33f8-0145-430d-fd73-b698fc6ae52a"
      },
      "execution_count": null,
      "outputs": [
        {
          "output_type": "display_data",
          "data": {
            "text/html": [
              "'simple'"
            ],
            "text/markdown": "'simple'",
            "text/latex": "'simple'",
            "text/plain": [
              "[1] \"simple\""
            ]
          },
          "metadata": {}
        },
        {
          "output_type": "display_data",
          "data": {
            "text/html": [
              "'aesthetic'"
            ],
            "text/markdown": "'aesthetic'",
            "text/latex": "'aesthetic'",
            "text/plain": [
              "[1] \"aesthetic\""
            ]
          },
          "metadata": {}
        },
        {
          "output_type": "display_data",
          "data": {
            "text/plain": [
              "plot without title"
            ],
            "image/png": "[encoded data removed]"
          },
          "metadata": {
            "image/png": {
              "width": 420,
              "height": 420
            }
          }
        },
        {
          "output_type": "display_data",
          "data": {
            "text/html": [
              "'geometric'"
            ],
            "text/markdown": "'geometric'",
            "text/latex": "'geometric'",
            "text/plain": [
              "[1] \"geometric\""
            ]
          },
          "metadata": {}
        },
        {
          "output_type": "display_data",
          "data": {
            "text/plain": [
              "plot without title"
            ],
            "image/png": "[encoded data removed]"
          },
          "metadata": {
            "image/png": {
              "width": 420,
              "height": 420
            }
          }
        },
        {
          "output_type": "display_data",
          "data": {
            "text/html": [
              "'histogram'"
            ],
            "text/markdown": "'histogram'",
            "text/latex": "'histogram'",
            "text/plain": [
              "[1] \"histogram\""
            ]
          },
          "metadata": {}
        },
        {
          "output_type": "display_data",
          "data": {
            "text/plain": [
              "plot without title"
            ],
            "image/png": "[encoded data removed]"
          },
          "metadata": {
            "image/png": {
              "width": 420,
              "height": 420
            }
          }
        },
        {
          "output_type": "display_data",
          "data": {
            "text/html": [
              "'statistics'"
            ],
            "text/markdown": "'statistics'",
            "text/latex": "'statistics'",
            "text/plain": [
              "[1] \"statistics\""
            ]
          },
          "metadata": {}
        },
        {
          "output_type": "stream",
          "name": "stderr",
          "text": [
            "`geom_smooth()` using formula 'y ~ x'\n",
            "\n",
            "Warning message in qt((1 - level)/2, df):\n",
            "“NaNs produced”\n",
            "Warning message in max(ids, na.rm = TRUE):\n",
            "“no non-missing arguments to max; returning -Inf”\n"
          ]
        },
        {
          "output_type": "display_data",
          "data": {
            "text/plain": [
              "plot without title"
            ],
            "image/png": "[encoded data removed]"
          },
          "metadata": {
            "image/png": {
              "width": 420,
              "height": 420
            }
          }
        },
        {
          "output_type": "display_data",
          "data": {
            "text/plain": [
              "plot without title"
            ],
            "image/png": "[encoded data removed]"
          },
          "metadata": {
            "image/png": {
              "width": 420,
              "height": 420
            }
          }
        }
      ]
    },
    {
      "cell_type": "code",
      "source": [],
      "metadata": {
        "id": "RtZHXN4Slxpb"
      },
      "execution_count": null,
      "outputs": []
    }
  ]
}